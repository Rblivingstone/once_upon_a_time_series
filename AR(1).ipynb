{
 "cells": [
  {
   "cell_type": "markdown",
   "metadata": {},
   "source": [
    "#Once upon a Time-Series\n",
    "###AR(1) Processes\n",
    "\n",
    "This post is about AR(1) processes. What we find is that the AR(1) process doesn't actually bias our estimates of the coefficients. You can think of the AR(1) process as something that helps you patch up the standard errors when a time series \"remembers\" the past. This can be caused by unobserved variables changing slowly over time. I like to think of the AR(p) processes as echoes. Essentially, what we observe is some shock whose affect is felt today, tomorrow, and on ward forever because the echo isn't dampened. In order to pick out the true signal we need to correct for these echoes so that we see the signal correctly, so that the signal isn't distorted."
   ]
  },
  {
   "cell_type": "code",
   "execution_count": 3,
   "metadata": {
    "collapsed": false
   },
   "outputs": [],
   "source": [
    "import pandas\n",
    "import numpy as np\n",
    "import statsmodels.api as sm\n",
    "import matplotlib.pyplot as plt\n",
    "%matplotlib inline"
   ]
  },
  {
   "cell_type": "markdown",
   "metadata": {},
   "source": [
    "Let's do some monte carlo simulations of some time-series with this property. We're going to look at positive autocorrelation, negative autocorrelation, and no autocorrelation. We're going to learn how to detect autocorrlation in a timeseries, and then we are going to see what happens when you don't correct for it, when you should and what will happen if you do correct for it when you shouldn't. So let's generate  a series with positive autocorrelation."
   ]
  },
  {
   "cell_type": "code",
   "execution_count": 54,
   "metadata": {
    "collapsed": false,
    "scrolled": true
   },
   "outputs": [
    {
     "data": {
      "text/html": [
       "<div>\n",
       "<table border=\"1\" class=\"dataframe\">\n",
       "  <thead>\n",
       "    <tr style=\"text-align: right;\">\n",
       "      <th></th>\n",
       "      <th>x</th>\n",
       "      <th>y</th>\n",
       "      <th>const</th>\n",
       "    </tr>\n",
       "  </thead>\n",
       "  <tbody>\n",
       "    <tr>\n",
       "      <th>0</th>\n",
       "      <td>1.000000</td>\n",
       "      <td>2.000000</td>\n",
       "      <td>1</td>\n",
       "    </tr>\n",
       "    <tr>\n",
       "      <th>1</th>\n",
       "      <td>-1.216810</td>\n",
       "      <td>20.749990</td>\n",
       "      <td>1</td>\n",
       "    </tr>\n",
       "    <tr>\n",
       "      <th>2</th>\n",
       "      <td>0.525834</td>\n",
       "      <td>26.110532</td>\n",
       "      <td>1</td>\n",
       "    </tr>\n",
       "    <tr>\n",
       "      <th>3</th>\n",
       "      <td>-0.767324</td>\n",
       "      <td>34.641265</td>\n",
       "      <td>1</td>\n",
       "    </tr>\n",
       "    <tr>\n",
       "      <th>4</th>\n",
       "      <td>-0.106521</td>\n",
       "      <td>-11.531330</td>\n",
       "      <td>1</td>\n",
       "    </tr>\n",
       "  </tbody>\n",
       "</table>\n",
       "</div>"
      ],
      "text/plain": [
       "          x          y  const\n",
       "0  1.000000   2.000000      1\n",
       "1 -1.216810  20.749990      1\n",
       "2  0.525834  26.110532      1\n",
       "3 -0.767324  34.641265      1\n",
       "4 -0.106521 -11.531330      1"
      ]
     },
     "execution_count": 54,
     "metadata": {},
     "output_type": "execute_result"
    }
   ],
   "source": [
    "np.random.seed(992)\n",
    "u=[]\n",
    "x=[1]\n",
    "y=[2]\n",
    "u.append(np.random.normal(0,1))\n",
    "rho=0.95\n",
    "for i in range(1000):\n",
    "    u.append(rho*u[i]+np.random.normal(0,20))\n",
    "    x.append(np.random.normal(0,1))\n",
    "    y.append(40+5.3*x[i+1]+u[i+1])\n",
    "df=pandas.DataFrame([x,y]).T\n",
    "df.columns=['x','y']\n",
    "df['const']=1\n",
    "df.head()"
   ]
  },
  {
   "cell_type": "markdown",
   "metadata": {},
   "source": [
    "The code above generates a dataset with two variables. One variable, x, is just a random noise process. We do this to guarantee that it is a stationary time series, i.e. it has no trend. The next variable, y, is a constant term, plus 5.3 times whatever x is, and an AR(1) process. The AR(1) process is our autocorrelation, above it is the term u. So we know for sure that y is also going to be stationary. We'll plot it below so that you can see."
   ]
  },
  {
   "cell_type": "code",
   "execution_count": 55,
   "metadata": {
    "collapsed": false,
    "scrolled": true
   },
   "outputs": [
    {
     "data": {
      "image/png": "[encoded data removed]",
      "text/plain": [
       "<matplotlib.figure.Figure at 0x19da2b38>"
      ]
     },
     "metadata": {},
     "output_type": "display_data"
    }
   ],
   "source": [
    "plt.plot(range(1000),df.loc[1:,'y'])\n",
    "plt.show()"
   ]
  },
  {
   "cell_type": "markdown",
   "metadata": {},
   "source": [
    "Next we'll plot the error term u over time so we can see what that AR(1) process looks like. I'm also going to zoom in on the first 100 observations to show you with some more clarity what is going on. But it looks like the timeseries sort of remembers what is going on."
   ]
  },
  {
   "cell_type": "code",
   "execution_count": 57,
   "metadata": {
    "collapsed": false
   },
   "outputs": [
    {
     "data": {
      "image/png": "[encoded data removed]",
      "text/plain": [
       "<matplotlib.figure.Figure at 0x19c49940>"
      ]
     },
     "metadata": {},
     "output_type": "display_data"
    }
   ],
   "source": [
    "plt.plot(range(1000),u[1:])\n",
    "plt.show()"
   ]
  },
  {
   "cell_type": "markdown",
   "metadata": {},
   "source": [
    "It's still kind of hard to tell what is going on, but if you squint you can almost see it. The error seems to remember what it was doing. When it is negative, it likes to stay negative, and when it is positive it seems to like to stay positive. This \"memory\" is a problem when it comes to the basic assumptions about a regression. The different time periods shouldn't remember what happened to it before. In case this plot is too difficult to see the autocorrelation, the next chart is better."
   ]
  },
  {
   "cell_type": "code",
   "execution_count": 58,
   "metadata": {
    "collapsed": false
   },
   "outputs": [
    {
     "data": {
      "image/png": "[encoded data removed]",
      "text/plain": [
       "<matplotlib.figure.Figure at 0x19c49be0>"
      ]
     },
     "metadata": {},
     "output_type": "display_data"
    }
   ],
   "source": [
    "fig = plt.figure(figsize=(12,8))\n",
    "ax1 = fig.add_subplot(211)\n",
    "fig = sm.graphics.tsa.plot_acf(df.y.squeeze(), lags=40, ax=ax1)\n",
    "ax2 = fig.add_subplot(212)\n",
    "fig = sm.graphics.tsa.plot_pacf(df.y.squeeze(), lags=40, ax=ax2)"
   ]
  },
  {
   "cell_type": "markdown",
   "metadata": {},
   "source": [
    "These plots show the correlation coefficient on the error term with different lags. In other words, this is the autocorrelation. Now I find the partial autocorrelation easier to interpret but the same information is contained in both graphs. We have a very strong autocorrelation from only the first lag. Also a perfect correlation with the original observation, but we can ignore that because it is uniformative. "
   ]
  },
  {
   "cell_type": "code",
   "execution_count": 59,
   "metadata": {
    "collapsed": false
   },
   "outputs": [
    {
     "name": "stdout",
     "output_type": "stream",
     "text": [
      "                            OLS Regression Results                            \n",
      "==============================================================================\n",
      "Dep. Variable:                      y   R-squared:                       0.020\n",
      "Model:                            OLS   Adj. R-squared:                  0.019\n",
      "Method:                 Least Squares   F-statistic:                     20.22\n",
      "Date:                Sat, 28 May 2016   Prob (F-statistic):           7.71e-06\n",
      "Time:                        12:34:29   Log-Likelihood:                -5558.2\n",
      "No. Observations:                1001   AIC:                         1.112e+04\n",
      "Df Residuals:                     999   BIC:                         1.113e+04\n",
      "Df Model:                           1                                         \n",
      "Covariance Type:            nonrobust                                         \n",
      "==============================================================================\n",
      "                 coef    std err          t      P>|t|      [95.0% Conf. Int.]\n",
      "------------------------------------------------------------------------------\n",
      "x              9.2511      2.057      4.497      0.000         5.214    13.288\n",
      "const         69.6275      1.975     35.258      0.000        65.752    73.503\n",
      "==============================================================================\n",
      "Omnibus:                        7.520   Durbin-Watson:                   0.111\n",
      "Prob(Omnibus):                  0.023   Jarque-Bera (JB):               10.315\n",
      "Skew:                           0.000   Prob(JB):                      0.00575\n",
      "Kurtosis:                       3.497   Cond. No.                         1.04\n",
      "==============================================================================\n",
      "\n",
      "Warnings:\n",
      "[1] Standard Errors assume that the covariance matrix of the errors is correctly specified.\n"
     ]
    }
   ],
   "source": [
    "y=df['y']\n",
    "X=df[['x','const']]\n",
    "\n",
    "model1=sm.OLS(y,X).fit()\n",
    "print model1.summary()\n"
   ]
  },
  {
   "cell_type": "markdown",
   "metadata": {},
   "source": [
    "So this looks bad. I estimated the coefficient on x is 9.25, it should have been 5.3, and the constant should have been 40. And my standard errors are off, because I mispecificed the covariance matrix because of the autocorrelation. The tricky thing here is that I am technically, not biased in my coefficients, with more observations, I should get the correct coefficients."
   ]
  },
  {
   "cell_type": "code",
   "execution_count": 60,
   "metadata": {
    "collapsed": false
   },
   "outputs": [
    {
     "name": "stdout",
     "output_type": "stream",
     "text": [
      "                   x          y  const\n",
      "2014-01-01  1.000000   2.000000      1\n",
      "2014-01-02 -1.216810  20.749990      1\n",
      "2014-01-03  0.525834  26.110532      1\n",
      "2014-01-04 -0.767324  34.641265      1\n",
      "2014-01-05 -0.106521 -11.531330      1\n",
      "                              ARMA Model Results                              \n",
      "==============================================================================\n",
      "Dep. Variable:                      y   No. Observations:                 1001\n",
      "Model:                     ARMA(1, 0)   Log Likelihood               -4414.380\n",
      "Method:                       css-mle   S.D. of innovations             19.883\n",
      "Date:                Sat, 28 May 2016   AIC                           8836.760\n",
      "Time:                        12:39:17   BIC                           8856.395\n",
      "Sample:                    01-01-2014   HQIC                          8844.223\n",
      "                         - 09-27-2016                                         \n",
      "==============================================================================\n",
      "                 coef    std err          z      P>|z|      [95.0% Conf. Int.]\n",
      "------------------------------------------------------------------------------\n",
      "const         68.1027     11.835      5.754      0.000        44.906    91.299\n",
      "x              5.3877      0.482     11.168      0.000         4.442     6.333\n",
      "ar.L1.y        0.9478      0.010     95.094      0.000         0.928     0.967\n",
      "                                    Roots                                    \n",
      "=============================================================================\n",
      "                 Real           Imaginary           Modulus         Frequency\n",
      "-----------------------------------------------------------------------------\n",
      "AR.1            1.0551           +0.0000j            1.0551            0.0000\n",
      "-----------------------------------------------------------------------------\n"
     ]
    }
   ],
   "source": [
    "from statsmodels.tsa import arima_model\n",
    "df.index=pandas.date_range('2014-01-01',periods=len(df))\n",
    "print df.head()\n",
    "y=df['y']\n",
    "X=df[['x']]\n",
    "model2=arima_model.ARIMA(y,[1,0,0],X).fit()\n",
    "print model2.summary()"
   ]
  },
  {
   "cell_type": "markdown",
   "metadata": {},
   "source": [
    "Notice that my coefficient on x is pretty good, so is my estimate of the amount of autocorrelation, 5.38 and 0.948 respectively. That's pretty close. My constant is still way off, and the true value falls outside of the 95% confidence interval. That's really too bad. But I am less confident about my answer for the constant and more confident about my coefficient on x. So that is some good news. Let's do the same thing with a slightly different seed, and negative autocorrelation. I'm going to blame the weird constant on the seed."
   ]
  },
  {
   "cell_type": "code",
   "execution_count": 61,
   "metadata": {
    "collapsed": false
   },
   "outputs": [
    {
     "data": {
      "text/html": [
       "<div>\n",
       "<table border=\"1\" class=\"dataframe\">\n",
       "  <thead>\n",
       "    <tr style=\"text-align: right;\">\n",
       "      <th></th>\n",
       "      <th>x</th>\n",
       "      <th>y</th>\n",
       "      <th>const</th>\n",
       "    </tr>\n",
       "  </thead>\n",
       "  <tbody>\n",
       "    <tr>\n",
       "      <th>0</th>\n",
       "      <td>1.000000</td>\n",
       "      <td>2.000000</td>\n",
       "      <td>1</td>\n",
       "    </tr>\n",
       "    <tr>\n",
       "      <th>1</th>\n",
       "      <td>-1.101111</td>\n",
       "      <td>24.501892</td>\n",
       "      <td>1</td>\n",
       "    </tr>\n",
       "    <tr>\n",
       "      <th>2</th>\n",
       "      <td>-0.925462</td>\n",
       "      <td>41.993519</td>\n",
       "      <td>1</td>\n",
       "    </tr>\n",
       "    <tr>\n",
       "      <th>3</th>\n",
       "      <td>0.600197</td>\n",
       "      <td>0.390168</td>\n",
       "      <td>1</td>\n",
       "    </tr>\n",
       "    <tr>\n",
       "      <th>4</th>\n",
       "      <td>0.803091</td>\n",
       "      <td>88.901254</td>\n",
       "      <td>1</td>\n",
       "    </tr>\n",
       "  </tbody>\n",
       "</table>\n",
       "</div>"
      ],
      "text/plain": [
       "          x          y  const\n",
       "0  1.000000   2.000000      1\n",
       "1 -1.101111  24.501892      1\n",
       "2 -0.925462  41.993519      1\n",
       "3  0.600197   0.390168      1\n",
       "4  0.803091  88.901254      1"
      ]
     },
     "execution_count": 61,
     "metadata": {},
     "output_type": "execute_result"
    }
   ],
   "source": [
    "np.random.seed(993)\n",
    "u=[]\n",
    "x=[1]\n",
    "y=[2]\n",
    "u.append(np.random.normal(0,1))\n",
    "rho=-0.95\n",
    "for i in range(1000):\n",
    "    u.append(rho*u[i]+np.random.normal(0,20))\n",
    "    x.append(np.random.normal(0,1))\n",
    "    y.append(40+5.3*x[i+1]+u[i+1])\n",
    "df=pandas.DataFrame([x,y]).T\n",
    "df.columns=['x','y']\n",
    "df['const']=1\n",
    "df.head()"
   ]
  },
  {
   "cell_type": "code",
   "execution_count": 62,
   "metadata": {
    "collapsed": false
   },
   "outputs": [
    {
     "data": {
      "image/png": "[encoded data removed]",
      "text/plain": [
       "<matplotlib.figure.Figure at 0x1c0fafd0>"
      ]
     },
     "metadata": {},
     "output_type": "display_data"
    }
   ],
   "source": [
    "fig = plt.figure(figsize=(12,8))\n",
    "ax1 = fig.add_subplot(211)\n",
    "fig = sm.graphics.tsa.plot_acf(df.y.squeeze(), lags=40, ax=ax1)\n",
    "ax2 = fig.add_subplot(212)\n",
    "fig = sm.graphics.tsa.plot_pacf(df.y.squeeze(), lags=40, ax=ax2)"
   ]
  },
  {
   "cell_type": "markdown",
   "metadata": {},
   "source": [
    "So the swapping back and forth on the autocorrelation plot is actually the tell-tale sign of negative autocorrelation. The partial autocorrelation helps in making sure that I only have an AR(1) term, instead of say an AR(2)."
   ]
  },
  {
   "cell_type": "code",
   "execution_count": 63,
   "metadata": {
    "collapsed": false,
    "scrolled": false
   },
   "outputs": [
    {
     "name": "stdout",
     "output_type": "stream",
     "text": [
      "                            OLS Regression Results                            \n",
      "==============================================================================\n",
      "Dep. Variable:                      y   R-squared:                       0.009\n",
      "Model:                            OLS   Adj. R-squared:                  0.008\n",
      "Method:                 Least Squares   F-statistic:                     9.413\n",
      "Date:                Sat, 28 May 2016   Prob (F-statistic):            0.00221\n",
      "Time:                        12:44:32   Log-Likelihood:                -5541.6\n",
      "No. Observations:                1001   AIC:                         1.109e+04\n",
      "Df Residuals:                     999   BIC:                         1.110e+04\n",
      "Df Model:                           1                                         \n",
      "Covariance Type:            nonrobust                                         \n",
      "==============================================================================\n",
      "                 coef    std err          t      P>|t|      [95.0% Conf. Int.]\n",
      "------------------------------------------------------------------------------\n",
      "x              5.8647      1.912      3.068      0.002         2.114     9.616\n",
      "const         39.6058      1.942     20.390      0.000        35.794    43.418\n",
      "==============================================================================\n",
      "Omnibus:                       17.386   Durbin-Watson:                   3.887\n",
      "Prob(Omnibus):                  0.000   Jarque-Bera (JB):               10.113\n",
      "Skew:                          -0.021   Prob(JB):                      0.00637\n",
      "Kurtosis:                       2.509   Cond. No.                         1.03\n",
      "==============================================================================\n",
      "\n",
      "Warnings:\n",
      "[1] Standard Errors assume that the covariance matrix of the errors is correctly specified.\n"
     ]
    }
   ],
   "source": [
    "y=df['y']\n",
    "X=df[['x','const']]\n",
    "\n",
    "model3=sm.OLS(y,X).fit()\n",
    "print model3.summary()"
   ]
  },
  {
   "cell_type": "markdown",
   "metadata": {},
   "source": [
    "So I actually didn't do too bad here. I got 5.86 and 39.6 for the coefficient on x and the constant respectively, they are statistically significant too. A lot of people would call that a win. But because we can see that there is autocorrelation in the time series we know that we can do better."
   ]
  },
  {
   "cell_type": "code",
   "execution_count": 64,
   "metadata": {
    "collapsed": false,
    "scrolled": true
   },
   "outputs": [
    {
     "name": "stdout",
     "output_type": "stream",
     "text": [
      "                   x          y  const\n",
      "2014-01-01  1.000000   2.000000      1\n",
      "2014-01-02 -1.101111  24.501892      1\n",
      "2014-01-03 -0.925462  41.993519      1\n",
      "2014-01-04  0.600197   0.390168      1\n",
      "2014-01-05  0.803091  88.901254      1\n",
      "                              ARMA Model Results                              \n",
      "==============================================================================\n",
      "Dep. Variable:                      y   No. Observations:                 1001\n",
      "Model:                     ARMA(1, 0)   Log Likelihood               -4427.396\n",
      "Method:                       css-mle   S.D. of innovations             20.144\n",
      "Date:                Sat, 28 May 2016   AIC                           8862.791\n",
      "Time:                        12:44:50   BIC                           8882.426\n",
      "Sample:                    01-01-2014   HQIC                          8870.253\n",
      "                         - 09-27-2016                                         \n",
      "==============================================================================\n",
      "                 coef    std err          z      P>|z|      [95.0% Conf. Int.]\n",
      "------------------------------------------------------------------------------\n",
      "const         39.5953      0.328    120.795      0.000        38.953    40.238\n",
      "x              5.6561      0.455     12.444      0.000         4.765     6.547\n",
      "ar.L1.y       -0.9443      0.010    -91.760      0.000        -0.964    -0.924\n",
      "                                    Roots                                    \n",
      "=============================================================================\n",
      "                 Real           Imaginary           Modulus         Frequency\n",
      "-----------------------------------------------------------------------------\n",
      "AR.1           -1.0590           +0.0000j            1.0590            0.5000\n",
      "-----------------------------------------------------------------------------\n"
     ]
    }
   ],
   "source": [
    "from statsmodels.tsa import arima_model\n",
    "df.index=pandas.date_range('2014-01-01',periods=len(df))\n",
    "print df.head()\n",
    "y=df['y']\n",
    "X=df[['x']]\n",
    "model4=arima_model.ARIMA(y,[1,0,0],X).fit()\n",
    "print model4.summary()"
   ]
  },
  {
   "cell_type": "markdown",
   "metadata": {},
   "source": [
    "Look at how much more confident we are in these estimates! Again we see that the estimates are unbiased, we just screwed up the standard errors. Now let's look at one without any autocorrelation. What we'll see is that by adding an AR term inappropriately doesn't mess anything up because we just end up setting that autocorrelation coefficient to zero when we fit the model. So I won't dive into any explanation and just leave the numbers up for those that want to take a closer look."
   ]
  },
  {
   "cell_type": "code",
   "execution_count": 46,
   "metadata": {
    "collapsed": false
   },
   "outputs": [
    {
     "data": {
      "text/html": [
       "<div>\n",
       "<table border=\"1\" class=\"dataframe\">\n",
       "  <thead>\n",
       "    <tr style=\"text-align: right;\">\n",
       "      <th></th>\n",
       "      <th>x</th>\n",
       "      <th>y</th>\n",
       "      <th>const</th>\n",
       "    </tr>\n",
       "  </thead>\n",
       "  <tbody>\n",
       "    <tr>\n",
       "      <th>0</th>\n",
       "      <td>1.000000</td>\n",
       "      <td>2.000000</td>\n",
       "      <td>1</td>\n",
       "    </tr>\n",
       "    <tr>\n",
       "      <th>1</th>\n",
       "      <td>-1.101111</td>\n",
       "      <td>23.858743</td>\n",
       "      <td>1</td>\n",
       "    </tr>\n",
       "    <tr>\n",
       "      <th>2</th>\n",
       "      <td>-0.925462</td>\n",
       "      <td>32.814408</td>\n",
       "      <td>1</td>\n",
       "    </tr>\n",
       "    <tr>\n",
       "      <th>3</th>\n",
       "      <td>0.600197</td>\n",
       "      <td>6.943711</td>\n",
       "      <td>1</td>\n",
       "    </tr>\n",
       "    <tr>\n",
       "      <th>4</th>\n",
       "      <td>0.803091</td>\n",
       "      <td>48.249924</td>\n",
       "      <td>1</td>\n",
       "    </tr>\n",
       "  </tbody>\n",
       "</table>\n",
       "</div>"
      ],
      "text/plain": [
       "          x          y  const\n",
       "0  1.000000   2.000000      1\n",
       "1 -1.101111  23.858743      1\n",
       "2 -0.925462  32.814408      1\n",
       "3  0.600197   6.943711      1\n",
       "4  0.803091  48.249924      1"
      ]
     },
     "execution_count": 46,
     "metadata": {},
     "output_type": "execute_result"
    }
   ],
   "source": [
    "np.random.seed(993)\n",
    "u=[]\n",
    "x=[1]\n",
    "y=[2]\n",
    "u.append(np.random.normal(0,1))\n",
    "rho=0.0\n",
    "for i in range(1000):\n",
    "    u.append(rho*u[i]+np.random.normal(0,20))\n",
    "    x.append(np.random.normal(0,1))\n",
    "    y.append(40+5.3*x[i+1]+u[i+1])\n",
    "df=pandas.DataFrame([x,y]).T\n",
    "df.columns=['x','y']\n",
    "df['const']=1\n",
    "df.head()"
   ]
  },
  {
   "cell_type": "code",
   "execution_count": 47,
   "metadata": {
    "collapsed": false
   },
   "outputs": [
    {
     "data": {
      "image/png": "[encoded data removed]",
      "text/plain": [
       "<matplotlib.figure.Figure at 0x1a795eb8>"
      ]
     },
     "metadata": {},
     "output_type": "display_data"
    }
   ],
   "source": [
    "fig = plt.figure(figsize=(12,8))\n",
    "ax1 = fig.add_subplot(211)\n",
    "fig = sm.graphics.tsa.plot_acf(df.y.squeeze(), lags=40, ax=ax1)\n",
    "ax2 = fig.add_subplot(212)\n",
    "fig = sm.graphics.tsa.plot_pacf(df.y.squeeze(), lags=40, ax=ax2)"
   ]
  },
  {
   "cell_type": "code",
   "execution_count": 48,
   "metadata": {
    "collapsed": false
   },
   "outputs": [
    {
     "name": "stdout",
     "output_type": "stream",
     "text": [
      "                            OLS Regression Results                            \n",
      "==============================================================================\n",
      "Dep. Variable:                      y   R-squared:                       0.075\n",
      "Model:                            OLS   Adj. R-squared:                  0.074\n",
      "Method:                 Least Squares   F-statistic:                     80.54\n",
      "Date:                Sat, 28 May 2016   Prob (F-statistic):           1.38e-18\n",
      "Time:                        08:02:00   Log-Likelihood:                -4425.6\n",
      "No. Observations:                1001   AIC:                             8855.\n",
      "Df Residuals:                     999   BIC:                             8865.\n",
      "Df Model:                           1                                         \n",
      "Covariance Type:            nonrobust                                         \n",
      "==============================================================================\n",
      "                 coef    std err          t      P>|t|      [95.0% Conf. Int.]\n",
      "------------------------------------------------------------------------------\n",
      "x              5.6264      0.627      8.975      0.000         4.396     6.857\n",
      "const         39.2026      0.637     61.537      0.000        37.952    40.453\n",
      "==============================================================================\n",
      "Omnibus:                        2.338   Durbin-Watson:                   2.014\n",
      "Prob(Omnibus):                  0.311   Jarque-Bera (JB):                2.205\n",
      "Skew:                           0.089   Prob(JB):                        0.332\n",
      "Kurtosis:                       3.145   Cond. No.                         1.03\n",
      "==============================================================================\n",
      "\n",
      "Warnings:\n",
      "[1] Standard Errors assume that the covariance matrix of the errors is correctly specified.\n"
     ]
    }
   ],
   "source": [
    "y=df['y']\n",
    "X=df[['x','const']]\n",
    "\n",
    "model5=sm.OLS(y,X).fit()\n",
    "print model5.summary()"
   ]
  },
  {
   "cell_type": "code",
   "execution_count": 49,
   "metadata": {
    "collapsed": false
   },
   "outputs": [
    {
     "name": "stdout",
     "output_type": "stream",
     "text": [
      "                   x          y  const\n",
      "2014-01-01  1.000000   2.000000      1\n",
      "2014-01-02 -1.101111  23.858743      1\n",
      "2014-01-03 -0.925462  32.814408      1\n",
      "2014-01-04  0.600197   6.943711      1\n",
      "2014-01-05  0.803091  48.249924      1\n",
      "                              ARMA Model Results                              \n",
      "==============================================================================\n",
      "Dep. Variable:                      y   No. Observations:                 1001\n",
      "Model:                     ARMA(1, 0)   Log Likelihood               -4425.548\n",
      "Method:                       css-mle   S.D. of innovations             20.130\n",
      "Date:                Sat, 28 May 2016   AIC                           8859.096\n",
      "Time:                        08:02:51   BIC                           8878.731\n",
      "Sample:                    01-01-2014   HQIC                          8866.558\n",
      "                         - 09-27-2016                                         \n",
      "==============================================================================\n",
      "                 coef    std err          z      P>|z|      [95.0% Conf. Int.]\n",
      "------------------------------------------------------------------------------\n",
      "const         39.2028      0.630     62.194      0.000        37.967    40.438\n",
      "x              5.6243      0.626      8.981      0.000         4.397     6.852\n",
      "ar.L1.y       -0.0096      0.032     -0.304      0.761        -0.072     0.052\n",
      "                                    Roots                                    \n",
      "=============================================================================\n",
      "                 Real           Imaginary           Modulus         Frequency\n",
      "-----------------------------------------------------------------------------\n",
      "AR.1         -103.8417           +0.0000j          103.8417            0.5000\n",
      "-----------------------------------------------------------------------------\n"
     ]
    }
   ],
   "source": [
    "from statsmodels.tsa import arima_model\n",
    "df.index=pandas.date_range('2014-01-01',periods=len(df))\n",
    "print df.head()\n",
    "y=df['y']\n",
    "X=df[['x']]\n",
    "model6=arima_model.ARIMA(y,[1,0,0],X).fit()\n",
    "print model6.summary()"
   ]
  },
  {
   "cell_type": "code",
   "execution_count": null,
   "metadata": {
    "collapsed": true
   },
   "outputs": [],
   "source": []
  }
 ],
 "metadata": {
  "kernelspec": {
   "display_name": "Python 2",
   "language": "python",
   "name": "python2"
  },
  "language_info": {
   "codemirror_mode": {
    "name": "ipython",
    "version": 2
   },
   "file_extension": ".py",
   "mimetype": "text/x-python",
   "name": "python",
   "nbconvert_exporter": "python",
   "pygments_lexer": "ipython2",
   "version": "2.7.10"
  }
 },
 "nbformat": 4,
 "nbformat_minor": 0
}
